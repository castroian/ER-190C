{
 "cells": [
  {
   "cell_type": "markdown",
   "metadata": {},
   "source": [
    "ER190C: Data, Envinronment and Society.\n",
    "\n",
    "Lecture 2, Aug 28 2018\n",
    "\n",
    "In this notebook, we'll do a brief tour of the data set we'll be working with from the California Independent Operator."
   ]
  },
  {
   "cell_type": "code",
   "execution_count": 12,
   "metadata": {},
   "outputs": [],
   "source": [
    "import requests # this is a really useful library for pulling data from the web\n",
    "import csv # this helps us work with csv files\n",
    "import numpy as np # numpy is something like a matlab replacement for python.  Numeric and scientific computing.\n",
    "import pandas as pd # we'll learn more about this soon"
   ]
  },
  {
   "cell_type": "markdown",
   "metadata": {},
   "source": [
    "California ISO is the system operator for the California grid.  They tell generators when and how much to produce.  \n",
    "\n",
    "They record renewable production data [here](http://content.caiso.com/green/renewrpt/)\n",
    "\n",
    "That page links to files giving production for the *day* in question.  \n",
    "\n",
    "Let's look at Aug 21, 2017, the day of a large total solar eclipse."
   ]
  },
  {
   "cell_type": "code",
   "execution_count": 13,
   "metadata": {},
   "outputs": [],
   "source": [
    "# figure out what the url should be and enter it here:\n",
    "url = 'http://content.caiso.com/green/renewrpt/20170821_DailyRenewablesWatch.txt' # do this in lecture"
   ]
  },
  {
   "cell_type": "markdown",
   "metadata": {},
   "source": [
    "Let's \"tab into\" `requests` to see how we can get data from the url.\n",
    "\n",
    "Some cool 'help' features of Jupyter\n",
    "1. pushing tab at the right time shows you what methods are available to apply to an object.\n",
    "2. pushing shift-tab repeatedly gives you help files \n",
    "3. typing a question mark before a command pulls up the full help file.  "
   ]
  },
  {
   "cell_type": "code",
   "execution_count": 14,
   "metadata": {},
   "outputs": [],
   "source": [
    "caiso_data = requests.get(url) # do this in lecture"
   ]
  },
  {
   "cell_type": "code",
   "execution_count": 15,
   "metadata": {},
   "outputs": [],
   "source": [
    "?requests.get # do this in lecture"
   ]
  },
  {
   "cell_type": "code",
   "execution_count": 16,
   "metadata": {},
   "outputs": [
    {
     "data": {
      "text/plain": [
       "<Response [200]>"
      ]
     },
     "execution_count": 16,
     "metadata": {},
     "output_type": "execute_result"
    }
   ],
   "source": [
    "# let's see what we got\n",
    "caiso_data"
   ]
  },
  {
   "cell_type": "markdown",
   "metadata": {},
   "source": [
    "'Response' is the object returned by requests.  In this case we've opened a connection to the url but we haven't actually grabbed the text.  \n",
    "\n",
    "Let's look at the requests documentation to figure out what to do.  (Search for python requests in your favorite search engine and see what you find.)"
   ]
  },
  {
   "cell_type": "markdown",
   "metadata": {},
   "source": [
    "Looks like we can tack .text on the end of the object to actually pull the data."
   ]
  },
  {
   "cell_type": "code",
   "execution_count": 17,
   "metadata": {},
   "outputs": [
    {
     "data": {
      "text/plain": [
       "'08/21/17\\t\\t\\tHourly Breakdown of Renewable Resources (MW)\\t\\t\\t\\t\\t\\t\\t\\t\\t\\t\\t\\t\\t\\t\\r\\n\\tHour\\t\\tGEOTHERMAL\\tBIOMASS\\t\\tBIOGAS\\t\\tSMALL HYDRO\\tWIND TOTAL\\tSOLAR PV\\tSOLAR THERMAL\\t\\t\\t\\t\\t\\t\\r\\n\\t1\\t\\t971\\t\\t245\\t\\t164\\t\\t406\\t\\t2032\\t\\t0\\t\\t0\\t\\t\\r\\n\\t2\\t\\t971\\t\\t246\\t\\t174\\t\\t408\\t\\t2056\\t\\t0\\t\\t0\\t\\t\\r\\n\\t3\\t\\t971\\t\\t248\\t\\t175\\t\\t406\\t\\t1912\\t\\t0\\t\\t0\\t\\t\\r\\n\\t4\\t\\t972\\t\\t250\\t\\t175\\t\\t415\\t\\t1808\\t\\t0\\t\\t0\\t\\t\\r\\n\\t5\\t\\t972\\t\\t251\\t\\t175\\t\\t405\\t\\t1771\\t\\t0\\t\\t0\\t\\t\\r\\n\\t6\\t\\t973\\t\\t250\\t\\t175\\t\\t412\\t\\t1681\\t\\t0\\t\\t0\\t\\t\\r\\n\\t7\\t\\t972\\t\\t254\\t\\t175\\t\\t441\\t\\t1560\\t\\t174\\t\\t0\\t\\t\\r\\n\\t8\\t\\t971\\t\\t256\\t\\t174\\t\\t442\\t\\t1559\\t\\t2376\\t\\t0\\t\\t\\r\\n\\t9\\t\\t969\\t\\t259\\t\\t174\\t\\t495\\t\\t1582\\t\\t5484\\t\\t86\\t\\t\\r\\n\\t10\\t\\t965\\t\\t258\\t\\t169\\t\\t463\\t\\t1534\\t\\t5312\\t\\t141\\t\\t\\r\\n\\t11\\t\\t945\\t\\t260\\t\\t172\\t\\t451\\t\\t1372\\t\\t3503\\t\\t110\\t\\t\\r\\n\\t12\\t\\t939\\t\\t259\\t\\t176\\t\\t457\\t\\t1297\\t\\t6329\\t\\t201\\t\\t\\r\\n\\t13\\t\\t936\\t\\t256\\t\\t176\\t\\t460\\t\\t1308\\t\\t8700\\t\\t472\\t\\t\\r\\n\\t14\\t\\t936\\t\\t257\\t\\t176\\t\\t468\\t\\t1496\\t\\t8857\\t\\t527\\t\\t\\r\\n\\t15\\t\\t936\\t\\t260\\t\\t177\\t\\t471\\t\\t1584\\t\\t8732\\t\\t598\\t\\t\\r\\n\\t16\\t\\t936\\t\\t262\\t\\t175\\t\\t501\\t\\t1620\\t\\t7983\\t\\t395\\t\\t\\r\\n\\t17\\t\\t936\\t\\t260\\t\\t176\\t\\t486\\t\\t1649\\t\\t7020\\t\\t262\\t\\t\\r\\n\\t18\\t\\t935\\t\\t258\\t\\t174\\t\\t528\\t\\t1580\\t\\t5329\\t\\t228\\t\\t\\r\\n\\t19\\t\\t955\\t\\t258\\t\\t172\\t\\t610\\t\\t1644\\t\\t2193\\t\\t119\\t\\t\\r\\n\\t20\\t\\t964\\t\\t255\\t\\t172\\t\\t604\\t\\t1845\\t\\t114\\t\\t0\\t\\t\\r\\n\\t21\\t\\t967\\t\\t247\\t\\t171\\t\\t583\\t\\t2358\\t\\t0\\t\\t0\\t\\t\\r\\n\\t22\\t\\t970\\t\\t235\\t\\t171\\t\\t484\\t\\t2282\\t\\t0\\t\\t0\\t\\t\\r\\n\\t23\\t\\t970\\t\\t230\\t\\t171\\t\\t436\\t\\t1840\\t\\t0\\t\\t0\\t\\t\\r\\n\\t24\\t\\t971\\t\\t228\\t\\t172\\t\\t423\\t\\t1620\\t\\t0\\t\\t0\\t\\t\\r\\n\\t\\t\\t\\t\\t\\t\\t\\t\\t\\t\\t\\t\\t\\t\\t\\t\\t\\r\\n\\t\\t\\t\\t\\t\\t\\t\\t\\t\\t\\t\\t\\t\\t\\t\\t\\t\\r\\n\\t\\t\\tHourly Breakdown of Total Production by Resource Type (MW)\\t\\t\\t\\t\\t\\t\\t\\t\\t\\t\\t\\t\\t\\t\\r\\n\\tHour\\t\\tRENEWABLES\\tNUCLEAR\\t\\tTHERMAL\\t\\tIMPORTS\\t\\tHYDRO\\t\\t\\t\\t\\t\\t\\t\\r\\n\\t1\\t\\t3582\\t\\t2259\\t\\t8401\\t\\t6163\\t\\t3916\\t\\t\\t\\t\\t\\t\\r\\n\\t2\\t\\t3855\\t\\t2260\\t\\t7597\\t\\t6016\\t\\t3465\\t\\t\\t\\t\\t\\t\\r\\n\\t3\\t\\t3712\\t\\t2262\\t\\t7843\\t\\t5518\\t\\t3166\\t\\t\\t\\t\\t\\t\\r\\n\\t4\\t\\t3620\\t\\t2262\\t\\t8039\\t\\t5221\\t\\t3132\\t\\t\\t\\t\\t\\t\\r\\n\\t5\\t\\t3574\\t\\t2260\\t\\t8178\\t\\t5363\\t\\t3454\\t\\t\\t\\t\\t\\t\\r\\n\\t6\\t\\t3491\\t\\t2259\\t\\t8668\\t\\t6062\\t\\t3754\\t\\t\\t\\t\\t\\t\\r\\n\\t7\\t\\t3585\\t\\t2263\\t\\t9654\\t\\t6903\\t\\t3872\\t\\t\\t\\t\\t\\t\\r\\n\\t8\\t\\t5781\\t\\t2265\\t\\t9935\\t\\t6070\\t\\t3628\\t\\t\\t\\t\\t\\t\\r\\n\\t9\\t\\t9050\\t\\t2265\\t\\t8834\\t\\t5107\\t\\t3306\\t\\t\\t\\t\\t\\t\\r\\n\\t10\\t\\t8842\\t\\t2264\\t\\t9391\\t\\t5684\\t\\t3448\\t\\t\\t\\t\\t\\t\\r\\n\\t11\\t\\t6813\\t\\t2260\\t\\t10239\\t\\t7475\\t\\t3926\\t\\t\\t\\t\\t\\t\\r\\n\\t12\\t\\t9659\\t\\t2259\\t\\t9563\\t\\t4812\\t\\t3270\\t\\t\\t\\t\\t\\t\\r\\n\\t13\\t\\t12309\\t\\t2259\\t\\t8558\\t\\t3376\\t\\t3676\\t\\t\\t\\t\\t\\t\\r\\n\\t14\\t\\t12717\\t\\t2258\\t\\t8686\\t\\t3795\\t\\t4014\\t\\t\\t\\t\\t\\t\\r\\n\\t15\\t\\t12758\\t\\t2258\\t\\t9694\\t\\t3944\\t\\t4204\\t\\t\\t\\t\\t\\t\\r\\n\\t16\\t\\t11872\\t\\t2255\\t\\t10764\\t\\t4889\\t\\t4475\\t\\t\\t\\t\\t\\t\\r\\n\\t17\\t\\t10789\\t\\t2252\\t\\t11271\\t\\t6032\\t\\t5018\\t\\t\\t\\t\\t\\t\\r\\n\\t18\\t\\t9032\\t\\t2251\\t\\t12269\\t\\t6944\\t\\t5360\\t\\t\\t\\t\\t\\t\\r\\n\\t19\\t\\t5951\\t\\t2256\\t\\t13060\\t\\t8713\\t\\t5447\\t\\t\\t\\t\\t\\t\\r\\n\\t20\\t\\t3955\\t\\t2260\\t\\t13525\\t\\t9581\\t\\t5494\\t\\t\\t\\t\\t\\t\\r\\n\\t21\\t\\t4326\\t\\t2263\\t\\t12865\\t\\t9845\\t\\t5366\\t\\t\\t\\t\\t\\t\\r\\n\\t22\\t\\t4141\\t\\t2263\\t\\t11939\\t\\t9009\\t\\t5280\\t\\t\\t\\t\\t\\t\\r\\n\\t23\\t\\t3647\\t\\t2258\\t\\t10938\\t\\t8271\\t\\t4554\\t\\t\\t\\t\\t\\t\\r\\n\\t24\\t\\t3414\\t\\t2256\\t\\t10125\\t\\t7268\\t\\t4015\\t\\t\\t\\t\\t\\t\\r\\n'"
      ]
     },
     "execution_count": 17,
     "metadata": {},
     "output_type": "execute_result"
    }
   ],
   "source": [
    "caiso_data.text # do this in lecture"
   ]
  },
  {
   "cell_type": "markdown",
   "metadata": {},
   "source": [
    "Ack!  That's pretty ugly!  What are we looking at?\n",
    "\n",
    "<br>\n",
    "<br>\n",
    "<br>\n",
    "\n",
    "(a tab delimited file)\n",
    "\n",
    "I wrote a function that will pull a date range and massage it into the form we want:"
   ]
  },
  {
   "cell_type": "code",
   "execution_count": 79,
   "metadata": {},
   "outputs": [],
   "source": [
    "import datetime # helps us to work with dates and times in different formats\n",
    "import os # helps us talk to the operating system command line\n",
    "from calendar import monthrange\n",
    "\n",
    "def CAISOrenewables(start_year, start_month, start_day, end_year, end_month, end_day, production = False, matrix = False):\n",
    "    \"\"\"Scrape CAISO's daily renewable watch .txt files and \n",
    "    convert to a DataFrame or Numpy record array. Will only scrape\n",
    "    a range of days in a given month.\n",
    "    \n",
    "    Keyword arguments:\n",
    "    Year -- year of the date to scrape\n",
    "    Month -- Month of date to scrape\n",
    "    start_day -- starting day of month to scrape\n",
    "    end_day -- ending day to scrape\n",
    "    production -- If False, will collect hourly breakdown of renewable resources.\n",
    "                  If True, will scrape hourly breakdown of total production by resource type.\n",
    "    matrix -- If False, function will return a Pandas DataFrame\n",
    "              If True, will return numpy recarray\n",
    "    \"\"\"\n",
    "    base_url = 'http://content.caiso.com/green/renewrpt/'\n",
    "    tail = '_DailyRenewablesWatch.txt'\n",
    "    \n",
    "    rv = pd.DataFrame()\n",
    "    \n",
    "    for year in range(start_year, end_year + 1):\n",
    "        if year == start_year:\n",
    "            s_month = start_month\n",
    "        else: \n",
    "            s_month = 1\n",
    "            \n",
    "        if year == end_year:\n",
    "            e_month = end_month\n",
    "        else:\n",
    "            e_month = 12\n",
    "            \n",
    "        for month in range(s_month, e_month + 1):\n",
    "            if month < 10:\n",
    "                str_month = '0' + str(month)\n",
    "            else:\n",
    "                str_month = str(month)\n",
    "\n",
    "            if month == start_month and year == start_year:\n",
    "                s_day = start_day\n",
    "            else:\n",
    "                s_day = 1\n",
    "            if month == end_month and year == end_year:\n",
    "                e_day = end_day\n",
    "            else:\n",
    "                e_day = monthrange(year, month)[1]\n",
    "            for day in range(s_day, e_day + 1):\n",
    "                #format date and URL to pull\n",
    "\n",
    "                if day < 10:\n",
    "                    str_day = '0'+ str(day)\n",
    "                else:\n",
    "                    str_day = str(day)\n",
    "\n",
    "                str_m_day = str_month + str_day\n",
    "                url = base_url + str(year) + str_m_day + tail\n",
    "\n",
    "                #Write scraped file to drive\n",
    "                caiso_data = requests.get(url).text\n",
    "                txt_filename = 'CAISOdata/' + str(year) +str_m_day + '.txt'\n",
    "                csv_filename = 'CAISOdata/' + str(year) + str_m_day + '.csv'\n",
    "\n",
    "                with open(txt_filename, 'w') as f:\n",
    "                    f.write(str(caiso_data))\n",
    "\n",
    "                #Convert the .txt file to a csv.\n",
    "                with open(txt_filename) as txtfile, open(csv_filename,'w') as new_csv:\n",
    "                    for line in txtfile: \n",
    "                        new_csv.write(line.replace('\\t',','))\n",
    "\n",
    "                #Get day of year for dataframe index\n",
    "                date = datetime.date(year, month, day)\n",
    "\n",
    "                #Load data to dataframe.\n",
    "                data = pd.read_csv(csv_filename, delimiter='\\t')\n",
    "\n",
    "                if not production:\n",
    "                    data = data.iloc[range(0, 25)]\n",
    "                else:\n",
    "                    data = data.iloc[range(28, 53)].reset_index(drop=True)\n",
    "\n",
    "                #Get column names\n",
    "                columns = [i for i in np.array2string(data.iloc[0].values).split(',') if len(i)>3]\n",
    "\n",
    "                #Grab first row of data to put in a dictionary then append the rest.\n",
    "                first_row = [[int(i)] for i in np.array2string(data.iloc[1].values).split(',') if i.isdigit()]\n",
    "                df_data = dict(zip(columns, first_row))\n",
    "\n",
    "                #Do the same for the rest of the rows\n",
    "                for row in range(2, data.shape[0]):\n",
    "                    vals = [i for i in np.array2string(data.iloc[row].values).split(',') if i.isdigit()]\n",
    "                    for item in range(len(columns)):\n",
    "                        df_data[columns[item]].append(vals[item])\n",
    "                \n",
    "                #create DataFrame with collected data\n",
    "                d_df = pd.DataFrame(df_data, [datetime.datetime(year, month, day, i) for i in range(0,24)])[columns]\n",
    "\n",
    "                rv = rv.append(d_df)\n",
    "                \n",
    "                os.remove(txt_filename)\n",
    "                os.remove(csv_filename)\n",
    "\n",
    "\n",
    "    rv.drop('Hour', axis = 1, inplace = True)            \n",
    "    if matrix:        \n",
    "        return rv.to_records(index=True)\n",
    "    \n",
    "    return rv"
   ]
  },
  {
   "cell_type": "markdown",
   "metadata": {},
   "source": [
    "Ok, now we can pull whatever data we want for renewables production from the CAISO website.  \n",
    "\n",
    "Here we'll pull CAISO renewables data for August 20 through 22, 2017."
   ]
  },
  {
   "cell_type": "code",
   "execution_count": 80,
   "metadata": {
    "scrolled": false
   },
   "outputs": [],
   "source": [
    "caiso_data = CAISOrenewables(2017, 8, 29, 2018, 8, 28) # do this in lecture"
   ]
  },
  {
   "cell_type": "code",
   "execution_count": 81,
   "metadata": {},
   "outputs": [
    {
     "data": {
      "text/html": [
       "<div>\n",
       "<style scoped>\n",
       "    .dataframe tbody tr th:only-of-type {\n",
       "        vertical-align: middle;\n",
       "    }\n",
       "\n",
       "    .dataframe tbody tr th {\n",
       "        vertical-align: top;\n",
       "    }\n",
       "\n",
       "    .dataframe thead th {\n",
       "        text-align: right;\n",
       "    }\n",
       "</style>\n",
       "<table border=\"1\" class=\"dataframe\">\n",
       "  <thead>\n",
       "    <tr style=\"text-align: right;\">\n",
       "      <th></th>\n",
       "      <th>GEOTHERMAL</th>\n",
       "      <th>BIOMASS</th>\n",
       "      <th>BIOGAS</th>\n",
       "      <th>SMALL HYDRO</th>\n",
       "      <th>WIND TOTAL</th>\n",
       "      <th>SOLAR PV</th>\n",
       "      <th>SOLAR THERMAL</th>\n",
       "    </tr>\n",
       "  </thead>\n",
       "  <tbody>\n",
       "    <tr>\n",
       "      <th>2017-08-29 00:00:00</th>\n",
       "      <td>1181</td>\n",
       "      <td>340</td>\n",
       "      <td>156</td>\n",
       "      <td>324</td>\n",
       "      <td>1551</td>\n",
       "      <td>0</td>\n",
       "      <td>0</td>\n",
       "    </tr>\n",
       "    <tr>\n",
       "      <th>2017-08-29 01:00:00</th>\n",
       "      <td>1182</td>\n",
       "      <td>338</td>\n",
       "      <td>156</td>\n",
       "      <td>326</td>\n",
       "      <td>1556</td>\n",
       "      <td>0</td>\n",
       "      <td>0</td>\n",
       "    </tr>\n",
       "    <tr>\n",
       "      <th>2017-08-29 02:00:00</th>\n",
       "      <td>1183</td>\n",
       "      <td>337</td>\n",
       "      <td>156</td>\n",
       "      <td>337</td>\n",
       "      <td>1325</td>\n",
       "      <td>0</td>\n",
       "      <td>0</td>\n",
       "    </tr>\n",
       "    <tr>\n",
       "      <th>2017-08-29 03:00:00</th>\n",
       "      <td>1185</td>\n",
       "      <td>339</td>\n",
       "      <td>156</td>\n",
       "      <td>313</td>\n",
       "      <td>1158</td>\n",
       "      <td>0</td>\n",
       "      <td>0</td>\n",
       "    </tr>\n",
       "    <tr>\n",
       "      <th>2017-08-29 04:00:00</th>\n",
       "      <td>1190</td>\n",
       "      <td>344</td>\n",
       "      <td>156</td>\n",
       "      <td>320</td>\n",
       "      <td>1209</td>\n",
       "      <td>0</td>\n",
       "      <td>0</td>\n",
       "    </tr>\n",
       "  </tbody>\n",
       "</table>\n",
       "</div>"
      ],
      "text/plain": [
       "                    GEOTHERMAL BIOMASS BIOGAS SMALL HYDRO WIND TOTAL SOLAR PV  \\\n",
       "2017-08-29 00:00:00       1181     340    156         324       1551        0   \n",
       "2017-08-29 01:00:00       1182     338    156         326       1556        0   \n",
       "2017-08-29 02:00:00       1183     337    156         337       1325        0   \n",
       "2017-08-29 03:00:00       1185     339    156         313       1158        0   \n",
       "2017-08-29 04:00:00       1190     344    156         320       1209        0   \n",
       "\n",
       "                    SOLAR THERMAL  \n",
       "2017-08-29 00:00:00             0  \n",
       "2017-08-29 01:00:00             0  \n",
       "2017-08-29 02:00:00             0  \n",
       "2017-08-29 03:00:00             0  \n",
       "2017-08-29 04:00:00             0  "
      ]
     },
     "execution_count": 81,
     "metadata": {},
     "output_type": "execute_result"
    }
   ],
   "source": [
    "caiso_data.head()"
   ]
  },
  {
   "cell_type": "markdown",
   "metadata": {},
   "source": [
    "Now let's use the `.loc` method in pandas to look at an individual data column (more on pandas next time)"
   ]
  },
  {
   "cell_type": "code",
   "execution_count": 82,
   "metadata": {},
   "outputs": [],
   "source": [
    "import matplotlib.pyplot as plt # this gives us libraries to plot nice figures."
   ]
  },
  {
   "cell_type": "markdown",
   "metadata": {},
   "source": [
    "Let's plot the solar generation data using `plt.plot` and the `.loc` method"
   ]
  },
  {
   "cell_type": "code",
   "execution_count": 83,
   "metadata": {},
   "outputs": [
    {
     "data": {
      "text/plain": [
       "[<matplotlib.lines.Line2D at 0x1159d3080>]"
      ]
     },
     "execution_count": 83,
     "metadata": {},
     "output_type": "execute_result"
    },
    {
     "data": {
      "image/png": "[encoded data removed]",
      "text/plain": [
       "<matplotlib.figure.Figure at 0x1164f3dd8>"
      ]
     },
     "metadata": {},
     "output_type": "display_data"
    }
   ],
   "source": [
    "plt.plot(caiso_data.loc[:,'SOLAR PV']) # do this in lecture"
   ]
  },
  {
   "cell_type": "code",
   "execution_count": 84,
   "metadata": {},
   "outputs": [],
   "source": [
    "caiso_data.to_csv('CAISO_2017to2018.csv')#, index = False, index_label = False)"
   ]
  },
  {
   "cell_type": "code",
   "execution_count": 91,
   "metadata": {},
   "outputs": [
    {
     "data": {
      "text/html": [
       "<div>\n",
       "<style scoped>\n",
       "    .dataframe tbody tr th:only-of-type {\n",
       "        vertical-align: middle;\n",
       "    }\n",
       "\n",
       "    .dataframe tbody tr th {\n",
       "        vertical-align: top;\n",
       "    }\n",
       "\n",
       "    .dataframe thead th {\n",
       "        text-align: right;\n",
       "    }\n",
       "</style>\n",
       "<table border=\"1\" class=\"dataframe\">\n",
       "  <thead>\n",
       "    <tr style=\"text-align: right;\">\n",
       "      <th></th>\n",
       "      <th>Source</th>\n",
       "      <th>MWh</th>\n",
       "    </tr>\n",
       "  </thead>\n",
       "  <tbody>\n",
       "    <tr>\n",
       "      <th>2017-08-29</th>\n",
       "      <td>GEOTHERMAL</td>\n",
       "      <td>1181</td>\n",
       "    </tr>\n",
       "    <tr>\n",
       "      <th>2017-08-29</th>\n",
       "      <td>BIOMASS</td>\n",
       "      <td>340</td>\n",
       "    </tr>\n",
       "    <tr>\n",
       "      <th>2017-08-29</th>\n",
       "      <td>BIOGAS</td>\n",
       "      <td>156</td>\n",
       "    </tr>\n",
       "    <tr>\n",
       "      <th>2017-08-29</th>\n",
       "      <td>SMALL HYDRO</td>\n",
       "      <td>324</td>\n",
       "    </tr>\n",
       "    <tr>\n",
       "      <th>2017-08-29</th>\n",
       "      <td>WIND TOTAL</td>\n",
       "      <td>1551</td>\n",
       "    </tr>\n",
       "  </tbody>\n",
       "</table>\n",
       "</div>"
      ],
      "text/plain": [
       "                 Source   MWh\n",
       "2017-08-29   GEOTHERMAL  1181\n",
       "2017-08-29      BIOMASS   340\n",
       "2017-08-29       BIOGAS   156\n",
       "2017-08-29  SMALL HYDRO   324\n",
       "2017-08-29   WIND TOTAL  1551"
      ]
     },
     "execution_count": 91,
     "metadata": {},
     "output_type": "execute_result"
    }
   ],
   "source": [
    "caiso_data_stack = caiso_data.stack().to_frame()\n",
    "caiso_data_stack.reset_index(level = 1, inplace=True)  \n",
    "caiso_data_stack.columns = ['Source', 'MWh']\n",
    "caiso_data_stack.head()"
   ]
  },
  {
   "cell_type": "code",
   "execution_count": 92,
   "metadata": {},
   "outputs": [],
   "source": [
    "caiso_data_stack.to_csv('CAISO_2017to2018_stack.csv')"
   ]
  },
  {
   "cell_type": "code",
   "execution_count": null,
   "metadata": {},
   "outputs": [],
   "source": []
  }
 ],
 "metadata": {
  "kernelspec": {
   "display_name": "Python 3",
   "language": "python",
   "name": "python3"
  },
  "language_info": {
   "codemirror_mode": {
    "name": "ipython",
    "version": 3
   },
   "file_extension": ".py",
   "mimetype": "text/x-python",
   "name": "python",
   "nbconvert_exporter": "python",
   "pygments_lexer": "ipython3",
   "version": "3.6.4"
  }
 },
 "nbformat": 4,
 "nbformat_minor": 2
}
