{
 "cells": [
  {
   "cell_type": "markdown",
   "metadata": {},
   "source": [
    "# Lecture 3 Notebook\n",
    "Duncan Callaway\n",
    "August 30 2018\n",
    "\n",
    "This lecture is a review of variable types and an introduction to the pandas library within python.\n",
    "\n",
    "My objective is to review enough of the basics to give people a clear sense of what a pandas data frame is and what it can contain.  "
   ]
  },
  {
   "cell_type": "markdown",
   "metadata": {},
   "source": [
    "## Pandas references\n",
    "\n",
    "(taken from DS100) \n",
    "\n",
    "Introductory:\n",
    "\n",
    "* [Getting started with Python for research](https://github.com/TiesdeKok/LearnPythonforResearch), a gentle introduction to Python in data-intensive research.\n",
    "\n",
    "* [A Whirlwind Tour of Python](https://jakevdp.github.io/WhirlwindTourOfPython/index.html), by Jake VanderPlas, another quick Python intro (with notebooks).\n",
    "\n",
    "Core Pandas/Data Science books:\n",
    "\n",
    "* [The Python Data Science Handbook](https://jakevdp.github.io/PythonDataScienceHandbook/), by Jake VanderPlas.\n",
    "\n",
    "* [Python for Data Analysis, 2nd Edition](http://proquest.safaribooksonline.com/book/programming/python/9781491957653), by  Wes McKinney, creator of Pandas. [Companion Notebooks](https://github.com/wesm/pydata-book)\n",
    "\n",
    "* [Effective Pandas](https://github.com/TomAugspurger/effective-pandas), a book by Tom Augspurger, core Pandas developer.\n",
    "\n",
    "\n",
    "Complementary resources:\n",
    "\n",
    "* [An introduction to \"Data Science\"](https://github.com/stefanv/ds_intro), a collection of Notebooks by BIDS' [Stéfan Van der Walt](https://bids.berkeley.edu/people/st%C3%A9fan-van-der-walt).\n",
    "\n",
    "* [Effective Computation in Physics](http://proquest.safaribooksonline.com/book/physics/9781491901564), by Kathryn D. Huff; Anthony Scopatz. [Notebooks to accompany the book](https://github.com/physics-codes/seminar). Don't be fooled by the title, it's a great book on modern computational practices with very little that's physics-specific."
   ]
  },
  {
   "cell_type": "markdown",
   "metadata": {},
   "source": [
    "## Recap last lecture\n"
   ]
  },
  {
   "cell_type": "markdown",
   "metadata": {},
   "source": [
    "## A few more shortcuts\n",
    "`esc` --> command mode for cell\n",
    "\n",
    "`enter` --> edit mode for cell\n",
    "\n",
    "`shift-enter` --> run cell and select next cell\n",
    "\n",
    "`ctrl-enter` --> run cell and keep it selected\n",
    "\n",
    "in command mode, `a` creates a new cell above\n",
    "\n",
    "in command mode, `b` creates a new cell below\n",
    "\n",
    "in command mode, `dd` deletes cell\n",
    "\n",
    "in command mode, `m` turns cell into markdown\n",
    "\n",
    "in command mode, `y` turns cell to code\n",
    "\n",
    "in command mode, `h` shows keyboard shortcuts\n",
    "\n",
    "`shift-tab` gives information on a function or method\n",
    "\n",
    "`tab` gives options to add a method or function to an object."
   ]
  },
  {
   "cell_type": "markdown",
   "metadata": {},
   "source": [
    "## Object, method, function?\n",
    "\n",
    "These phrases come up repeatedly in python.  \n",
    "\n",
    "Q: What are they? \n",
    "\n",
    "Go [here for more](https://www.geeksforgeeks.org/difference-method-function-python/)\n",
    "\n",
    "1. Object: virtually anything with attributes in python.  \n",
    "    1. Objects usually belong to classes and have attributes\n",
    "    1. For example an object might belong to a bike class.  The attributes of the class would be material, wheel size, number of gears, etc.\n",
    "2. Method: A function associated with an object. \n",
    "    a. for example `object.method` applies the method to the object. \n",
    "3. Function: performs an action using some set of input parameters.\n",
    "    b. for example `function(object)` applies the function to the object."
   ]
  },
  {
   "cell_type": "markdown",
   "metadata": {},
   "source": [
    "## Basic data, or variable, types\n",
    "\n",
    "Q: what are some variable types native to Python? \n",
    "\n",
    "1. `string`\n",
    "2. `numbers`\n",
    "    1. `int`\n",
    "    3. `float`\n",
    "4. `bool`\n",
    "\n",
    "An interesting note about strings: though we can index their contents, they are *immutable*, meaning you can't change individual elements.  Instead you need to do a wholesale reassignment."
   ]
  },
  {
   "cell_type": "markdown",
   "metadata": {},
   "source": [
    "## Data structures or \"containers\"\n",
    "\n",
    "Q: what are some data structures native to Python? \n",
    "\n",
    "1. `dict`\n",
    "2. `list`\n",
    "3. `tuple`\n",
    "4. `set`\n",
    "\n",
    "Let's explore these a little further.  "
   ]
  },
  {
   "cell_type": "markdown",
   "metadata": {},
   "source": [
    "### Lists"
   ]
  },
  {
   "cell_type": "code",
   "execution_count": null,
   "metadata": {},
   "outputs": [],
   "source": [
    "squares = [1, 5, 9, 16, 25] # do this in lecture\n",
    "squares"
   ]
  },
  {
   "cell_type": "markdown",
   "metadata": {},
   "source": [
    "We can index elements with the usual process:"
   ]
  },
  {
   "cell_type": "code",
   "execution_count": null,
   "metadata": {},
   "outputs": [],
   "source": [
    "print(squares[0]) # do this in lecture; zero is the first element\n",
    "print(squares[-1]) # do this in lecture; -1 gives the last\n",
    "print(squares[2:]) # do this in lecture; you can slice..."
   ]
  },
  {
   "cell_type": "markdown",
   "metadata": {},
   "source": [
    "What does \"mutable\" mean?\n",
    "\n",
    "...that you can change individual entries of the data structure.\n",
    "\n",
    "Lists are mutable:"
   ]
  },
  {
   "cell_type": "code",
   "execution_count": null,
   "metadata": {},
   "outputs": [],
   "source": [
    "squares[1] = 4\n",
    "squares"
   ]
  },
  {
   "cell_type": "markdown",
   "metadata": {},
   "source": [
    "That's better! \n",
    "\n",
    "We can also append:"
   ]
  },
  {
   "cell_type": "code",
   "execution_count": null,
   "metadata": {},
   "outputs": [],
   "source": [
    "squares.append(6**2)\n",
    "squares"
   ]
  },
  {
   "cell_type": "markdown",
   "metadata": {},
   "source": [
    "Finally, we can nest lists"
   ]
  },
  {
   "cell_type": "code",
   "execution_count": null,
   "metadata": {},
   "outputs": [],
   "source": [
    "x = [1,2,3]\n",
    "y = [4,6]"
   ]
  },
  {
   "cell_type": "code",
   "execution_count": null,
   "metadata": {},
   "outputs": [],
   "source": [
    "A = [x,y]\n",
    "A"
   ]
  },
  {
   "cell_type": "markdown",
   "metadata": {},
   "source": [
    "Note that the number of elements in the two lists within the list did not need to be equal.  \n",
    "\n",
    "Note also that we can also assign different variable types to the nested list:"
   ]
  },
  {
   "cell_type": "code",
   "execution_count": null,
   "metadata": {},
   "outputs": [],
   "source": [
    "a = ['abc', 'def']"
   ]
  },
  {
   "cell_type": "code",
   "execution_count": null,
   "metadata": {},
   "outputs": [],
   "source": [
    "A = [x,a]\n",
    "A"
   ]
  },
  {
   "cell_type": "markdown",
   "metadata": {},
   "source": [
    "Careful though, it's tough to index these things.\n",
    "\n",
    "Think about how you might get the entry 'def' from the list, by integer indexes."
   ]
  },
  {
   "cell_type": "code",
   "execution_count": null,
   "metadata": {},
   "outputs": [],
   "source": [
    "A[1,1]"
   ]
  },
  {
   "cell_type": "markdown",
   "metadata": {},
   "source": [
    "That didn't work!  (We have to wait for numpy and pandas to be able to do that.)"
   ]
  },
  {
   "cell_type": "code",
   "execution_count": null,
   "metadata": {},
   "outputs": [],
   "source": [
    "A[1][1]"
   ]
  },
  {
   "cell_type": "markdown",
   "metadata": {},
   "source": [
    "Note, pandas data frames are a lot like lists in this way.  You first index which \"sublist\" you want, then you index into elements of that.  Numpy arrays (as we'll see) are much easier to index.  Frankly, the indexing with pandas is pretty annoying, but there are some workarounds that we'll discuss.  "
   ]
  },
  {
   "cell_type": "markdown",
   "metadata": {},
   "source": [
    "### Sets\n",
    "\n",
    "Whereas lists are defined with square brackets, sets use curlies:"
   ]
  },
  {
   "cell_type": "code",
   "execution_count": null,
   "metadata": {},
   "outputs": [],
   "source": [
    "basket = {'apple', 'orange', 'apple', 'pear', 'orange', 'banana'}"
   ]
  },
  {
   "cell_type": "markdown",
   "metadata": {},
   "source": [
    "What happened there? \n",
    "\n",
    "...I wrote orange and apple twice.  Let's look at the set:"
   ]
  },
  {
   "cell_type": "code",
   "execution_count": null,
   "metadata": {},
   "outputs": [],
   "source": [
    "print(basket)"
   ]
  },
  {
   "cell_type": "markdown",
   "metadata": {},
   "source": [
    "Pretty smart -- no duplicates!\n",
    "\n",
    "What might you do if you have a variable called basket but you don't know what's in it? \n",
    "\n",
    "Now we can query the set for membership:"
   ]
  },
  {
   "cell_type": "code",
   "execution_count": null,
   "metadata": {},
   "outputs": [],
   "source": [
    "'orange' in basket"
   ]
  },
  {
   "cell_type": "code",
   "execution_count": null,
   "metadata": {
    "scrolled": true
   },
   "outputs": [],
   "source": [
    "'kiwi' in basket"
   ]
  },
  {
   "cell_type": "markdown",
   "metadata": {},
   "source": [
    "Note, pandas data frames are like lists in that there are a number of entries that we can very quickly query.  But there are even more similarities with `dict` data structures."
   ]
  },
  {
   "cell_type": "markdown",
   "metadata": {},
   "source": [
    "### Dict\n",
    "\n",
    "Now let's talk about dicts.  We are inching closer to the kind of structure we have in a pandas data frame.\n",
    "\n",
    "Dicts associate one value with another."
   ]
  },
  {
   "cell_type": "code",
   "execution_count": null,
   "metadata": {},
   "outputs": [],
   "source": [
    "cars = {'Prius':'Toyota', 'Volt':'Chevy', 'Model 3': 'Tesla'}\n",
    "cars"
   ]
  },
  {
   "cell_type": "code",
   "execution_count": null,
   "metadata": {},
   "outputs": [],
   "source": [
    "cars['Prius']"
   ]
  },
  {
   "cell_type": "markdown",
   "metadata": {},
   "source": [
    "In this case \n",
    "1. 'Prius' is the **key** of the dict.\n",
    "2. 'Toyota' is the associated **value**.\n",
    "\n",
    "We can add new entries very easily:"
   ]
  },
  {
   "cell_type": "code",
   "execution_count": null,
   "metadata": {},
   "outputs": [],
   "source": [
    "cars['Leaf'] = 'Nissan'"
   ]
  },
  {
   "cell_type": "code",
   "execution_count": null,
   "metadata": {},
   "outputs": [],
   "source": [
    "cars"
   ]
  },
  {
   "cell_type": "markdown",
   "metadata": {},
   "source": [
    "## Numpy\n",
    "\n",
    "Before moving into pandas, let's do a quick review of numpy.  A numpy array is a grid of elements *of the same data type*.  (Pandas is like numpy but handles different data types.)  The beauty of numpy, like matlab, is that you don't need to specify what sort of data type you're working with -- it will guess for you."
   ]
  },
  {
   "cell_type": "code",
   "execution_count": null,
   "metadata": {},
   "outputs": [],
   "source": [
    "import numpy as np\n",
    "a = np.array([[1,2,3], [4,5,6]])\n",
    "a"
   ]
  },
  {
   "cell_type": "markdown",
   "metadata": {},
   "source": [
    "That's a numpy array.  \n",
    "\n",
    "Q: What have we seen before that looks a lot like this?\n",
    "\n",
    "A: a nested list.  \n",
    "\n",
    "A big difference, though, is that we can index numpy arrays more cleanly can we can lists:"
   ]
  },
  {
   "cell_type": "code",
   "execution_count": null,
   "metadata": {},
   "outputs": [],
   "source": [
    "a[1,1]"
   ]
  },
  {
   "cell_type": "markdown",
   "metadata": {},
   "source": [
    "What is the first index entry calling?  If you're not sure, play around with `a` to see if you can figure it out.\n",
    "\n",
    "Answer: The row.\n",
    "\n",
    "And so the second entry is calling the column.  Note this is the opposite of the order we used when we indexed into the nested list.  "
   ]
  },
  {
   "cell_type": "markdown",
   "metadata": {},
   "source": [
    "What happens when we try to add a different data type to the array?"
   ]
  },
  {
   "cell_type": "code",
   "execution_count": null,
   "metadata": {},
   "outputs": [],
   "source": [
    "a[1,1] = 'g'\n",
    "a"
   ]
  },
  {
   "cell_type": "markdown",
   "metadata": {},
   "source": [
    "We can't make the assignment.  However if we do it in the original definition, we can"
   ]
  },
  {
   "cell_type": "code",
   "execution_count": null,
   "metadata": {},
   "outputs": [],
   "source": [
    "a = np.array([[1,2,3], [4,5,'g']])\n",
    "a"
   ]
  },
  {
   "cell_type": "markdown",
   "metadata": {},
   "source": [
    "We can make the assignment -- but python interprets the data type as '<U21', which is a mixed data type.\n",
    "\n",
    "What happens if we try to do mathematical operations on this type?"
   ]
  },
  {
   "cell_type": "code",
   "execution_count": null,
   "metadata": {},
   "outputs": [],
   "source": [
    "a[1,0]+1"
   ]
  },
  {
   "cell_type": "markdown",
   "metadata": {},
   "source": [
    "Ok.  What's a slice?\n",
    "\n",
    "It's a portion of the array that we call with expressions involving a colon `:` in the index locations."
   ]
  },
  {
   "cell_type": "code",
   "execution_count": null,
   "metadata": {},
   "outputs": [],
   "source": [
    "b = a[0:1, 0:2]\n",
    "b"
   ]
  },
  {
   "cell_type": "markdown",
   "metadata": {},
   "source": [
    "Perhaps you remember that the indexing is not *inclusive* meaning it does not include data associated with the end index."
   ]
  },
  {
   "cell_type": "code",
   "execution_count": null,
   "metadata": {},
   "outputs": [],
   "source": [
    "c = a[:,-1:0:-1]\n",
    "c"
   ]
  },
  {
   "cell_type": "markdown",
   "metadata": {},
   "source": [
    "If python's not inclusive, how to I include entries at the ends?\n",
    "\n",
    "If we want to get all the way to the end of the array, just drop the second entry in the  slice:"
   ]
  },
  {
   "cell_type": "code",
   "execution_count": null,
   "metadata": {},
   "outputs": [],
   "source": [
    "c = a[:, -1::-1]\n",
    "c"
   ]
  },
  {
   "cell_type": "markdown",
   "metadata": {},
   "source": [
    "## Pandas!\n",
    "\n",
    "Ok, finally we're here.  \n",
    "\n",
    "In Data8 you used the `tables` library to organize and manipulate data.  I've not used tables but it has been described to me as a 'light' version of pandas.  So this will be somewhat familiar to you.\n",
    "\n",
    "Pandas has several features that make it immediately better than numpy for organizing data.\n",
    "1. You can have different data types (string, int, float) in each column\n",
    "2. You can label columns (headers)\n",
    "3. You can label rows (index)\n",
    "\n",
    "We call the data structure that holds all these things together a **data frame**\n",
    "\n",
    "**Ambiguity alert**: up to now we've talked about indexing to access individual elements of a data structure.  The index in pandas has a slightly more specific meaning, in that it references the rows of the data frame.  Pandas documentation talks about \"location\" or \"position\" in place using \"index\" as we did with the other data structures.  I'll try my best to disambiguate, but also rely on context to clarify the meaning of the terms.\n",
    "\n",
    "At its core, the data frame structure is what draws us to use pandas.  But it also has a bunch of great built-in functions you can use to manipulate data once it is loaded in."
   ]
  },
  {
   "cell_type": "code",
   "execution_count": null,
   "metadata": {},
   "outputs": [],
   "source": [
    "import pandas as pd"
   ]
  },
  {
   "cell_type": "markdown",
   "metadata": {},
   "source": [
    "I'm going to define a simple data frame in a way that you can see the connections to existing Python data types and structures.  \n",
    "\n",
    "First let's define a dict of fruit information:"
   ]
  },
  {
   "cell_type": "code",
   "execution_count": null,
   "metadata": {},
   "outputs": [],
   "source": [
    "fruit_info_dict = {'fruit':['apple','banana','orange','raspberry'],\n",
    "                  'color':['red','yellow','orange','pink'],\n",
    "                  'weight':[120,150,250,15]}\n",
    "fruit_info_dict"
   ]
  },
  {
   "cell_type": "code",
   "execution_count": null,
   "metadata": {},
   "outputs": [],
   "source": [
    "fruit_info_df = pd.DataFrame(\n",
    "    data={'fruit':['apple','banana','orange','raspberry'],\n",
    "                  'color':['red','yellow','orange','pink'],\n",
    "                  'weight':[120,150,250,15]\n",
    "         })\n",
    "fruit_info_df"
   ]
  },
  {
   "cell_type": "markdown",
   "metadata": {},
   "source": [
    "Some notes:\n",
    "1. You can see that we put the data inside curly brackets much like we do in a dict.  \n",
    "    1. We defined it as if fruit, color and weight are keys.\n",
    "    1. In fact, we'll be calling these column names.\n",
    "2. The pandas data structure is called the data frame.  "
   ]
  },
  {
   "cell_type": "code",
   "execution_count": null,
   "metadata": {},
   "outputs": [],
   "source": [
    "type(fruit_info_df)"
   ]
  },
  {
   "cell_type": "markdown",
   "metadata": {},
   "source": [
    "We can call the values associated with each column name (like the dict key) in much the same way that we did with the dict:    "
   ]
  },
  {
   "cell_type": "code",
   "execution_count": null,
   "metadata": {},
   "outputs": [],
   "source": [
    "fruit_info_dict['color']"
   ]
  },
  {
   "cell_type": "code",
   "execution_count": null,
   "metadata": {},
   "outputs": [],
   "source": [
    "fruit_info_df['color']"
   ]
  },
  {
   "cell_type": "markdown",
   "metadata": {},
   "source": [
    "But notice above in the dataframe we don't just have a list of colors.  Instead we have something called a **series**.   This is a pandas object that is analogous to a numpy series."
   ]
  },
  {
   "cell_type": "code",
   "execution_count": null,
   "metadata": {},
   "outputs": [],
   "source": [
    "type(fruit_info_df['color'])"
   ]
  },
  {
   "cell_type": "markdown",
   "metadata": {},
   "source": [
    "The series differs from the list in at least one important way: It has numbers directly associated with it that we call the index.  (The left column of the Series.)\n",
    "\n",
    "We can also call columns from the data frame as follows:"
   ]
  },
  {
   "cell_type": "code",
   "execution_count": null,
   "metadata": {},
   "outputs": [],
   "source": [
    "fruit_info_df.color"
   ]
  },
  {
   "cell_type": "markdown",
   "metadata": {},
   "source": [
    "But as we'll see soon, there are alternative ways to get access to the elements of the data frame (`.loc` and `.iloc`) that enable us to work with the frame more as we would a numpy array.\n",
    "\n",
    "Let me show a quick example of the problems we run into if we *don't* use `.loc` or `.iloc`.\n",
    "\n",
    "We *can* slice the frame as you might think:"
   ]
  },
  {
   "cell_type": "code",
   "execution_count": null,
   "metadata": {},
   "outputs": [],
   "source": [
    "fruit_info_df[0:1]"
   ]
  },
  {
   "cell_type": "markdown",
   "metadata": {},
   "source": [
    "But we *can't* slice on columns and rows:"
   ]
  },
  {
   "cell_type": "code",
   "execution_count": null,
   "metadata": {},
   "outputs": [],
   "source": [
    "fruit_info_df[0:1,0:1]"
   ]
  },
  {
   "cell_type": "markdown",
   "metadata": {},
   "source": [
    "Nor can we index individual entries:"
   ]
  },
  {
   "cell_type": "code",
   "execution_count": null,
   "metadata": {},
   "outputs": [],
   "source": [
    "fruit_info_df[1,1]"
   ]
  },
  {
   "cell_type": "markdown",
   "metadata": {},
   "source": [
    "If we want individual entries instead we have to first call the column, then the row:"
   ]
  },
  {
   "cell_type": "code",
   "execution_count": null,
   "metadata": {},
   "outputs": [],
   "source": [
    "fruit_info_df['color'][1]"
   ]
  },
  {
   "cell_type": "markdown",
   "metadata": {},
   "source": [
    "...But that's a little annoying, since the numpy (and most other) conventions is to first reference the row, then the column.  \n",
    "\n",
    "Also, there is no way to slice on columns:"
   ]
  },
  {
   "cell_type": "code",
   "execution_count": null,
   "metadata": {},
   "outputs": [],
   "source": [
    "fruit_info_df['color':'weight']"
   ]
  },
  {
   "cell_type": "markdown",
   "metadata": {},
   "source": [
    "**Stretch Break!**"
   ]
  },
  {
   "cell_type": "markdown",
   "metadata": {},
   "source": [
    "### Anatomy of the data frame.\n",
    "\n",
    "Let's talk a little about the anatomy of the data frame.\n",
    "\n",
    "<img src=\"dataframe_anatomy.png\" width=\"800px\" align=\"left\" float=\"left\"/>\n",
    "\n",
    "We have the following important attributes:\n",
    "1. Rows\n",
    "2. Columns\n",
    "2. Index\n",
    "3. Column names\n",
    "\n",
    "The \"index\" can be numeric, but as we'll see we can also make the indices strings.  "
   ]
  },
  {
   "cell_type": "markdown",
   "metadata": {},
   "source": [
    "### Pandas and the CAISO data.\n",
    "\n",
    "Let's see what's in the current directory.  In macos, I type:"
   ]
  },
  {
   "cell_type": "code",
   "execution_count": null,
   "metadata": {},
   "outputs": [],
   "source": [
    "!ls"
   ]
  },
  {
   "cell_type": "markdown",
   "metadata": {},
   "source": [
    "But if someone picked up my ipynb and ran it on windows, they'd get an error.  \n",
    "\n",
    "Instead we can use the `os` library:"
   ]
  },
  {
   "cell_type": "code",
   "execution_count": null,
   "metadata": {},
   "outputs": [],
   "source": [
    "import os\n",
    "os.listdir()"
   ]
  },
  {
   "cell_type": "markdown",
   "metadata": {},
   "source": [
    "I've already downloaded a file, \"CAISO_2017_to_2018.csv\", that has one year of renewables production data from CAISO.\n",
    "\n",
    "Let's load that in as a dataframe and take a look at it.\n",
    "\n",
    "The simplest command is `pd.read_csv`"
   ]
  },
  {
   "cell_type": "code",
   "execution_count": null,
   "metadata": {},
   "outputs": [],
   "source": [
    "caiso_data = pd.read_csv('CAISO_2017to2018.csv')"
   ]
  },
  {
   "cell_type": "markdown",
   "metadata": {},
   "source": [
    "Now we can look at the top of the dataframe using the .head method.  \n",
    "\n",
    "Note that you need to put parentheses on the end of the call, otherwise python returns the head \"object\" in a rather ugly form.  "
   ]
  },
  {
   "cell_type": "code",
   "execution_count": null,
   "metadata": {},
   "outputs": [],
   "source": [
    "caiso_data.head()"
   ]
  },
  {
   "cell_type": "markdown",
   "metadata": {},
   "source": [
    "Pandas loaded the date and time in as a column and put its own row numbers on the data frame.  \n",
    "\n",
    "As an alternative we can actually make the row labels *equal* to whatever column of data we'd like.  We'll come back to the notion of the index a little later, but for now let's just reload with the date-time as the index:"
   ]
  },
  {
   "cell_type": "code",
   "execution_count": null,
   "metadata": {},
   "outputs": [],
   "source": [
    "caiso_data = pd.read_csv('CAISO_2017to2018.csv', index_col=0)\n",
    "caiso_data.head()"
   ]
  },
  {
   "cell_type": "markdown",
   "metadata": {},
   "source": [
    "Ok, that looks a little better for now.  \n",
    "\n",
    "As you can see, all the data are the same type of numeric value -- MWh.  \n",
    "\n",
    "In these cases, sometimes it's natural to \"stack\" the data.  \n",
    "\n",
    "We could do the stacking with a pandas command, `.stack`, but it requires a little more massaging than I want to get into right now.  So I've saved a stacked version of the data as a csv:"
   ]
  },
  {
   "cell_type": "code",
   "execution_count": null,
   "metadata": {},
   "outputs": [],
   "source": [
    "caiso_data_stack = pd.read_csv('CAISO_2017to2018_stack.csv', index_col=0)\n",
    "caiso_data_stack.head()"
   ]
  },
  {
   "cell_type": "markdown",
   "metadata": {},
   "source": [
    "You can see now that the category of generation has become a variable rather than a column name.   \n",
    "\n",
    "There are lots of ways to stack data, as you might guess.  "
   ]
  },
  {
   "cell_type": "markdown",
   "metadata": {},
   "source": [
    "Let's work with a few things to explore the data frame.\n",
    "\n",
    "We've already learned about `.head` but we can use it slightly differently:"
   ]
  },
  {
   "cell_type": "code",
   "execution_count": null,
   "metadata": {},
   "outputs": [],
   "source": [
    "caiso_data.head(2) # the number in the parens tells pandas how many rows"
   ]
  },
  {
   "cell_type": "markdown",
   "metadata": {},
   "source": [
    "We can also look at the tail!"
   ]
  },
  {
   "cell_type": "code",
   "execution_count": null,
   "metadata": {},
   "outputs": [],
   "source": [
    "caiso_data.tail()"
   ]
  },
  {
   "cell_type": "markdown",
   "metadata": {},
   "source": [
    "What's the shape of the frame?"
   ]
  },
  {
   "cell_type": "code",
   "execution_count": null,
   "metadata": {},
   "outputs": [],
   "source": [
    "print('Unstacked shape is ',caiso_data.shape)\n",
    "print('Stacked shape is ',caiso_data_stack.shape)"
   ]
  },
  {
   "cell_type": "markdown",
   "metadata": {},
   "source": [
    "The `.shape` method returns a tuple -- number of rows and number of columns.\n",
    "\n",
    "What about the total number of entries?  Use the `.size` method:"
   ]
  },
  {
   "cell_type": "code",
   "execution_count": null,
   "metadata": {},
   "outputs": [],
   "source": [
    "print('Unstacked size is ',caiso_data.size)\n",
    "print('Stacked size is ',caiso_data_stack.size)"
   ]
  },
  {
   "cell_type": "markdown",
   "metadata": {},
   "source": [
    "Both shape and size commands return information about how much data is in the frame.  What's the difference?\n",
    "\n",
    "We can also look at \"summary statistics\" of the numeric values of the frame:"
   ]
  },
  {
   "cell_type": "code",
   "execution_count": null,
   "metadata": {},
   "outputs": [],
   "source": [
    "caiso_data.describe()"
   ]
  },
  {
   "cell_type": "markdown",
   "metadata": {},
   "source": [
    "**A quirky thing about getting data out of the frame**\n",
    "\n",
    "Do be careful -- pulling data out of the dataframe is sometimes perplexing:"
   ]
  },
  {
   "cell_type": "code",
   "execution_count": null,
   "metadata": {
    "scrolled": true
   },
   "outputs": [],
   "source": [
    "caiso_data['GEOTHERMAL'].head()"
   ]
  },
  {
   "cell_type": "code",
   "execution_count": null,
   "metadata": {},
   "outputs": [],
   "source": [
    "caiso_data[['GEOTHERMAL']].head()"
   ]
  },
  {
   "cell_type": "markdown",
   "metadata": {},
   "source": [
    "With only one pair of sq brackets, we got a Series object, but with two sq brackets, we get a frame.  One way to think about why this is happening is that if we want to get more than one column, we need to pass a list of column names in, and this would necessarily output a data frame"
   ]
  },
  {
   "cell_type": "code",
   "execution_count": null,
   "metadata": {},
   "outputs": [],
   "source": [
    "caiso_data[['GEOTHERMAL', 'BIOGAS']].head()"
   ]
  },
  {
   "cell_type": "markdown",
   "metadata": {},
   "source": [
    "Python gets perturbed if you don't pass the labels in as a list.  "
   ]
  },
  {
   "cell_type": "markdown",
   "metadata": {},
   "source": [
    "### Indexing and slicing in Pandas\n",
    "\n",
    "To motivate our interest going forward, let's ask a basic question about the data set, for example:  \n",
    "\n",
    "**What hour had the lowest average wind generation in the last year?**\n",
    "\n",
    "Try thinking for a moment about how you'd do this, then we'll try to get there."
   ]
  },
  {
   "cell_type": "markdown",
   "metadata": {},
   "source": [
    "First let's figure out how to slice these data frames.\n",
    "\n",
    "`.iloc` allows us to index and slice on **i**nteger row and column positions:"
   ]
  },
  {
   "cell_type": "code",
   "execution_count": null,
   "metadata": {},
   "outputs": [],
   "source": [
    "caiso_data.iloc[1,1]"
   ]
  },
  {
   "cell_type": "markdown",
   "metadata": {},
   "source": [
    "But what's nice about `.iloc` is that you can also slice.  It works just like numpy."
   ]
  },
  {
   "cell_type": "code",
   "execution_count": null,
   "metadata": {},
   "outputs": [],
   "source": [
    "caiso_data.iloc[:-10:-1, :4]"
   ]
  },
  {
   "cell_type": "markdown",
   "metadata": {},
   "source": [
    "`.loc` is similar to `.iloc`, but it allows you to call the index and column names:"
   ]
  },
  {
   "cell_type": "code",
   "execution_count": null,
   "metadata": {},
   "outputs": [],
   "source": [
    "caiso_data.loc['2018-08-28 10:00:00':'2018-08-28 24:00:00','GEOTHERMAL':'BIOGAS']"
   ]
  },
  {
   "cell_type": "markdown",
   "metadata": {},
   "source": [
    "If index values are non-unique, the basic process is that `.loc` goes for the first appearance of the left side of the slice and the last appearance of the right side.\n",
    "\n",
    "Note, this raises again an interesting point about pandas data frames -- the row indices don't need to be integer row numbers.  \n",
    "\n",
    "Let's explore the index labels a little more.  "
   ]
  },
  {
   "cell_type": "markdown",
   "metadata": {},
   "source": [
    "### The index.\n",
    "\n",
    "Let's make the data a little smaller for working with, just choosing the first 24 hours."
   ]
  },
  {
   "cell_type": "code",
   "execution_count": null,
   "metadata": {},
   "outputs": [],
   "source": [
    "c_dat = caiso_data.head(24)\n",
    "c_dat.shape"
   ]
  },
  {
   "cell_type": "markdown",
   "metadata": {},
   "source": [
    "Now if we wish, we can reassign the index labels to integers 1 through 24:"
   ]
  },
  {
   "cell_type": "code",
   "execution_count": null,
   "metadata": {},
   "outputs": [],
   "source": [
    "c_dat.index = ['Hour '+str(i) for i in range(1,25)]\n",
    "c_dat"
   ]
  },
  {
   "cell_type": "markdown",
   "metadata": {},
   "source": [
    "Now we can slice in `.loc` using a slightly easier index:"
   ]
  },
  {
   "cell_type": "code",
   "execution_count": null,
   "metadata": {
    "scrolled": true
   },
   "outputs": [],
   "source": [
    "c_dat.loc['Hour 1':'Hour 4',:]"
   ]
  },
  {
   "cell_type": "markdown",
   "metadata": {},
   "source": [
    "But watch out -- `.iloc` might have different indexing.  "
   ]
  },
  {
   "cell_type": "code",
   "execution_count": null,
   "metadata": {},
   "outputs": [],
   "source": [
    "c_dat.iloc[1:4,:]"
   ]
  },
  {
   "cell_type": "markdown",
   "metadata": {},
   "source": [
    "What's different?\n",
    "1. for the last entry, `.loc` is inclusive, `.iloc` is not.  \n",
    "2. Also, `.iloc` is doing what we'd expect from python with indexing -- 0 is the first entry, 1 is the second....  On the other hand, \n",
    "\n",
    "These may all seem inconsistent, but when you think about the application of `.iloc`, you'd want to to follow usual python conventions.  But `.loc`, to me at least, feels intuitively better -- especially when you have non-numeric values to identify position -- if it's inclusive.  "
   ]
  },
  {
   "cell_type": "markdown",
   "metadata": {},
   "source": [
    "### Logical indexing\n",
    "Logical indexing is an extremely powerful way to pull data out of a frame.  \n",
    "For example, with the stacked data frame, let's pull out only wind generation.\n",
    "\n",
    "First, I'll show you a boolean series based on comparisons to the 'Source' data column:"
   ]
  },
  {
   "cell_type": "code",
   "execution_count": null,
   "metadata": {},
   "outputs": [],
   "source": [
    "(caiso_data_stack['Source']=='WIND TOTAL').head()"
   ]
  },
  {
   "cell_type": "markdown",
   "metadata": {},
   "source": [
    "Now we can embed that inside the `.loc` method:"
   ]
  },
  {
   "cell_type": "code",
   "execution_count": null,
   "metadata": {},
   "outputs": [],
   "source": [
    "caiso_data_stack.loc[caiso_data_stack['Source']=='WIND TOTAL',:].head()"
   ]
  },
  {
   "cell_type": "markdown",
   "metadata": {},
   "source": [
    "## Let's do the quiz."
   ]
  },
  {
   "cell_type": "markdown",
   "metadata": {},
   "source": [
    "### Answering our question\n",
    "What hour had the lowest average hourly wind generation?"
   ]
  },
  {
   "cell_type": "code",
   "execution_count": null,
   "metadata": {},
   "outputs": [],
   "source": [
    "wind = caiso_data_stack.loc[caiso_data_stack['Source']=='WIND TOTAL',:]"
   ]
  },
  {
   "cell_type": "markdown",
   "metadata": {},
   "source": [
    "What is the data structure of `wind`?"
   ]
  },
  {
   "cell_type": "code",
   "execution_count": null,
   "metadata": {},
   "outputs": [],
   "source": [
    "type(wind)"
   ]
  },
  {
   "cell_type": "markdown",
   "metadata": {},
   "source": [
    "Next week we'll use pivots to do this better, but for now let's use a for loop to get information by hour. \n",
    "\n",
    "First thing to do is figure out how to get the hour out of the index.\n",
    "\n",
    "[`datetime.strptime`](https://docs.python.org/2/library/datetime.html#strftime-strptime-behavior) is useful for this if you're working on individual dates.\n",
    "\n",
    "But `pd.to_datetime` is even better, especially if you're working on a lot of values in a list (or as the case will be, values in a pandas series)."
   ]
  },
  {
   "cell_type": "code",
   "execution_count": null,
   "metadata": {},
   "outputs": [],
   "source": [
    "windex = pd.to_datetime(wind.index)\n",
    "windex.hour"
   ]
  },
  {
   "cell_type": "code",
   "execution_count": null,
   "metadata": {},
   "outputs": [],
   "source": [
    "wind_ave = [] # initalizes a list to populate\n",
    "for i in range(0,24):\n",
    "    wind_ave.append(np.mean(wind.loc[windex.hour == i,:]))\n",
    "wind_ave"
   ]
  },
  {
   "cell_type": "code",
   "execution_count": null,
   "metadata": {},
   "outputs": [],
   "source": [
    "import matplotlib.pyplot as plt"
   ]
  },
  {
   "cell_type": "code",
   "execution_count": null,
   "metadata": {
    "scrolled": true
   },
   "outputs": [],
   "source": [
    "plt.plot(wind_ave)"
   ]
  },
  {
   "cell_type": "markdown",
   "metadata": {},
   "source": [
    "We can see pretty clearly that the min is 10 or 11...let's dig a little more.\n",
    "\n",
    "One way to do this is to drop the data into a data frame and then *sort* the data frame."
   ]
  },
  {
   "cell_type": "code",
   "execution_count": null,
   "metadata": {},
   "outputs": [],
   "source": [
    "df_wind = pd.DataFrame(wind_ave)\n",
    "df_wind"
   ]
  },
  {
   "cell_type": "markdown",
   "metadata": {},
   "source": [
    "I'm going to be adding more MWh values to the data frame in just a moment, so let's be clear that this is the average"
   ]
  },
  {
   "cell_type": "code",
   "execution_count": null,
   "metadata": {},
   "outputs": [],
   "source": [
    "df_wind.columns = ['Average MWh']"
   ]
  },
  {
   "cell_type": "code",
   "execution_count": null,
   "metadata": {},
   "outputs": [],
   "source": [
    "df_wind.sort_values(by='Average MWh',ascending=True).head()"
   ]
  },
  {
   "cell_type": "markdown",
   "metadata": {},
   "source": [
    "Ok -- so it looks as though mid-day is the minimum *average*.  \n",
    "\n",
    "But what's the range?"
   ]
  },
  {
   "cell_type": "code",
   "execution_count": null,
   "metadata": {},
   "outputs": [],
   "source": [
    "wind_min = [] # initalizes a list to populate\n",
    "wind_max = [] # initalizes a list to populate\n",
    "for i in range(0,24):\n",
    "    wind_min.append(np.min(wind.loc[windex.hour == i,:]))\n",
    "    wind_max.append(np.max(wind.loc[windex.hour == i,:]))"
   ]
  },
  {
   "cell_type": "code",
   "execution_count": null,
   "metadata": {},
   "outputs": [],
   "source": [
    "wind_max[0]"
   ]
  },
  {
   "cell_type": "code",
   "execution_count": null,
   "metadata": {},
   "outputs": [],
   "source": [
    "df_wind['min MWh']=pd.DataFrame(wind_min)['MWh']\n",
    "df_wind['max MWh']=pd.DataFrame(wind_max)['MWh']"
   ]
  },
  {
   "cell_type": "code",
   "execution_count": null,
   "metadata": {},
   "outputs": [],
   "source": [
    "df_wind"
   ]
  },
  {
   "cell_type": "code",
   "execution_count": null,
   "metadata": {},
   "outputs": [],
   "source": [
    "plt.plot(df_wind)"
   ]
  },
  {
   "cell_type": "markdown",
   "metadata": {},
   "source": [
    "### Challenge question: What *month* had the highest wind production in the last year?"
   ]
  }
 ],
 "metadata": {
  "kernelspec": {
   "display_name": "Python 3",
   "language": "python",
   "name": "python3"
  },
  "language_info": {
   "codemirror_mode": {
    "name": "ipython",
    "version": 3
   },
   "file_extension": ".py",
   "mimetype": "text/x-python",
   "name": "python",
   "nbconvert_exporter": "python",
   "pygments_lexer": "ipython3",
   "version": "3.6.4"
  }
 },
 "nbformat": 4,
 "nbformat_minor": 2
}
